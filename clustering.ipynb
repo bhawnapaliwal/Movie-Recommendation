{
 "cells": [
  {
   "cell_type": "code",
   "execution_count": 1,
   "metadata": {
    "scrolled": true
   },
   "outputs": [
    {
     "name": "stdout",
     "output_type": "stream",
     "text": [
      "/home/bhawna/assign_529\n"
     ]
    }
   ],
   "source": [
    "cd assign_529/"
   ]
  },
  {
   "cell_type": "code",
   "execution_count": null,
   "metadata": {},
   "outputs": [],
   "source": [
    "import csv\n",
    "moviemap={}\n",
    "moviemap_inv={}\n",
    "with open('./dataset/ratings.csv','rt')as f:\n",
    "    data = csv.reader(f)\n",
    "    i=0\n",
    "    cnt=0\n",
    "    for row in data:\n",
    "        if i!=0:\n",
    "            x=int(row[1])\n",
    "            if x in moviemap.keys():\n",
    "                print(\"present\")\n",
    "            else:\n",
    "                moviemap[int(row[1])]=cnt\n",
    "                moviemap_inv[cnt]=int(row[1])\n",
    "                cnt=cnt+1\n",
    "        i=i+1\n",
    "#print(cnt) cnt = 9724\n",
    "rows=611\n",
    "cols=9725\n",
    "rating_mat=[[0 for i in range(cols)] for j in range(rows)]\n",
    "test_mat=[[0 for i in range(cols)] for j in range(rows)]\n",
    "with open('./dataset/ratings.csv','rt')as f:\n",
    "    data = csv.reader(f)\n",
    "    i=0\n",
    "    for row in data:\n",
    "        if i!=0:\n",
    "            if i%5==0:\n",
    "                test_mat[int(row[0])][moviemap[int(row[1])]]=float(row[2])\n",
    "            else:\n",
    "                rating_mat[int(row[0])][moviemap[int(row[1])]]=float(row[2])\n",
    "        i=i+1"
   ]
  },
  {
   "cell_type": "code",
   "execution_count": 3,
   "metadata": {},
   "outputs": [],
   "source": [
    "import numpy as np\n",
    "import copy"
   ]
  },
  {
   "cell_type": "markdown",
   "metadata": {},
   "source": [
    "# K-Means Clustering"
   ]
  },
  {
   "cell_type": "code",
   "execution_count": 17,
   "metadata": {},
   "outputs": [],
   "source": [
    "# def k_means(r,u1,u2,rmat,k=5):\n",
    "k=8\n",
    "data = np.array(rating_mat)\n",
    "c = cols\n",
    "n=rows\n",
    "distances = np.zeros((n,k))\n",
    "mean = np.mean(data, axis = 0)\n",
    "std = np.std(data, axis = 0)\n",
    "centers = np.random.randn(k,c)*std + mean\n",
    "centers_old = np.zeros(centers.shape)\n",
    "centers_new = copy.deepcopy(centers)\n",
    "clusters = np.zeros(n)\n",
    "error = np.linalg.norm(centers_new-centers_old)\n",
    "while error!=0:\n",
    "    for i in range(k):\n",
    "        distances[:,i]=np.linalg.norm(data-centers[i],axis=1)\n",
    "    clusters=np.argmin(distances,axis=1)\n",
    "    centers_old = copy.deepcopy(centers_new)\n",
    "    for i in range(k):\n",
    "        centers_new[i] = np.mean(data[clusters==i],axis=0)\n",
    "    error = np.linalg.norm(centers_new-centers_old)"
   ]
  },
  {
   "cell_type": "markdown",
   "metadata": {},
   "source": [
    "Reading the  similarity matrix already calculated for users from file"
   ]
  },
  {
   "cell_type": "code",
   "execution_count": 14,
   "metadata": {},
   "outputs": [],
   "source": [
    "sim_u=[[0 for i in range(rows)] for j in range(rows)]#similarity matrix using pearson similarity (user-user)"
   ]
  },
  {
   "cell_type": "code",
   "execution_count": 15,
   "metadata": {},
   "outputs": [],
   "source": [
    "with open('./sim.csv','rt')as f:\n",
    "    data = csv.reader(f)\n",
    "    i=0\n",
    "    for row in data:\n",
    "        sim_u[int(row[0])][int(row[1])]=float(row[2])\n",
    "        sim_u[int(row[1])][int(row[0])]=float(row[2])    "
   ]
  },
  {
   "cell_type": "code",
   "execution_count": 16,
   "metadata": {},
   "outputs": [],
   "source": [
    "f.close()"
   ]
  },
  {
   "cell_type": "markdown",
   "metadata": {},
   "source": [
    "Grouping the cells in same cluster together in an array indexed by cluster number"
   ]
  },
  {
   "cell_type": "code",
   "execution_count": 18,
   "metadata": {},
   "outputs": [],
   "source": [
    "cl_array=[[] for i in range(k)]\n",
    "for i in range(rows):\n",
    "    x = clusters[i]\n",
    "    cl_array[x].append(i)"
   ]
  },
  {
   "cell_type": "markdown",
   "metadata": {},
   "source": [
    "Prediction function for clusters:"
   ]
  },
  {
   "cell_type": "code",
   "execution_count": 17,
   "metadata": {},
   "outputs": [],
   "source": [
    "def predict_clusters(u, _clusters, _cl_array,smat,rmat,mc_mat, j):\n",
    "    x = _clusters[u]#cluster number of required user\n",
    "    num=0\n",
    "    den=0\n",
    "    s=0\n",
    "    cnt=0\n",
    "    for i in range(len(_cl_array[x])):\n",
    "        s=s+mc_mat[_cl_array[x][i]][j]\n",
    "        if mc_mat[_cl_array[x][i]][j]!=0:\n",
    "            cnt = cnt+1\n",
    "    if cnt!=0:\n",
    "        s=s/cnt\n",
    "    else:\n",
    "        s=0\n",
    "    for i in range(len(_cl_array[x])):\n",
    "        if smat[_cl_array[x][i]][u]>0:\n",
    "            num = num+smat[_cl_array[x][i]][u]*mc_mat[_cl_array[x][i]][j]\n",
    "            den = den+smat[_cl_array[x][i]][u]\n",
    "    if den==0:\n",
    "        return 0\n",
    "    else:\n",
    "        return s+num/den"
   ]
  },
  {
   "cell_type": "code",
   "execution_count": 18,
   "metadata": {},
   "outputs": [],
   "source": [
    "mean_centered=[[0 for i in range(cols)] for j in range(rows)]\n",
    "for i in range(rows):\n",
    "    s=0\n",
    "    cnt=0\n",
    "    for j in range(cols):\n",
    "        s = s+rating_mat[i][j]\n",
    "        if rating_mat[i][j]!=0:\n",
    "            cnt=cnt+1\n",
    "    if cnt==0:\n",
    "        s=0\n",
    "    else:\n",
    "        s=s/cnt\n",
    "    for j in range(cols):\n",
    "        if rating_mat[i][j]!=0:\n",
    "            mean_centered[i][j]=rating_mat[i][j]-s"
   ]
  },
  {
   "cell_type": "markdown",
   "metadata": {},
   "source": [
    "Function for finding the mean absolute error:"
   ]
  },
  {
   "cell_type": "code",
   "execution_count": 20,
   "metadata": {},
   "outputs": [],
   "source": [
    "def test_pred(tmat,smat):\n",
    "    s=0\n",
    "    cnt=0\n",
    "    for i in range(rows):\n",
    "        for j in range(cols):\n",
    "            if tmat[i][j]!=0:\n",
    "                x = predict_clusters(i,clusters,cl_array,sim_u,test_mat,mean_centered,j)\n",
    "                y = tmat[i][j]\n",
    "                s = s+abs(x-y)\n",
    "                cnt = cnt+1\n",
    "#                 if cnt%100==0:\n",
    "#                     print(\"i: \"+str(i)+\" j: \"+str(j)+\" x: \"+str(x)+\" y: \"+str(y))\n",
    "    return (s/cnt)"
   ]
  },
  {
   "cell_type": "code",
   "execution_count": 21,
   "metadata": {},
   "outputs": [
    {
     "name": "stdout",
     "output_type": "stream",
     "text": [
      "3.456263925200501\n"
     ]
    }
   ],
   "source": [
    "print(test_pred(test_mat,sim_u))"
   ]
  },
  {
   "cell_type": "markdown",
   "metadata": {},
   "source": [
    "For finding the rms error:"
   ]
  },
  {
   "cell_type": "code",
   "execution_count": 22,
   "metadata": {},
   "outputs": [
    {
     "name": "stdout",
     "output_type": "stream",
     "text": [
      "3.6133511838288386\n"
     ]
    }
   ],
   "source": [
    "import math\n",
    "s=0\n",
    "cnt=0\n",
    "for i in range(rows):\n",
    "    for j in range(cols):\n",
    "        if test_mat[i][j]!=0:\n",
    "            x = predict_clusters(i,clusters,cl_array,sim_u,rating_mat,mean_centered, j)\n",
    "            y = test_mat[i][j]\n",
    "            s = s+(x-y)*(x-y)\n",
    "            cnt = cnt+1\n",
    "#                 if cnt%100==0:\n",
    "#                     print(\"i: \"+str(i)+\" j: \"+str(j)+\" x: \"+str(x)+\" y: \"+str(y))\n",
    "if cnt==0:\n",
    "    print(-1)\n",
    "else:\n",
    "    print(math.sqrt(s/cnt))"
   ]
  },
  {
   "cell_type": "markdown",
   "metadata": {},
   "source": [
    "# Data Smoothing and Clustering"
   ]
  },
  {
   "cell_type": "markdown",
   "metadata": {},
   "source": [
    "Finding the smoothened matrix as complete matrix:"
   ]
  },
  {
   "cell_type": "code",
   "execution_count": 4,
   "metadata": {},
   "outputs": [],
   "source": [
    "complete_matrix=[[0 for i in range(cols)] for j in range(rows)]"
   ]
  },
  {
   "cell_type": "code",
   "execution_count": null,
   "metadata": {},
   "outputs": [],
   "source": [
    "# data smoothing->don't execute, can read from file\n",
    "for i in range(rows):\n",
    "    s=0\n",
    "    cnt=0\n",
    "    for j in range(cols):\n",
    "        if rating_mat[i][j]!=0:\n",
    "            cnt=cnt+1\n",
    "            s = s+rating_mat[i][j]\n",
    "    if cnt==0:\n",
    "        s=0\n",
    "    else:\n",
    "        s=s/cnt\n",
    "    for j in range(cols):\n",
    "        if i%1000==0 and j%1000==0:\n",
    "            print(\"i: \"+str(i)+\" j: \"+str(j))\n",
    "        x = clusters[i]\n",
    "        dev=0\n",
    "        for u in range(len(cl_array[x])):\n",
    "            if rating_mat[cl_array[x][u]][j]!=0:\n",
    "                dev = dev+abs(rating_mat[cl_array[x][u]][j]-s)\n",
    "        if cnt==0:\n",
    "            complete_matrix[i][j]=0\n",
    "        else:\n",
    "            dev=dev/cnt\n",
    "            complete_matrix[i][j]=s+dev"
   ]
  },
  {
   "cell_type": "code",
   "execution_count": 12,
   "metadata": {},
   "outputs": [],
   "source": [
    "f=open('./complete_matrix.csv','w+')\n",
    "for i in range(rows):\n",
    "    for j in range(cols):\n",
    "        f.write(str(i)+','+str(j)+','+str(complete_matrix[i][j])+'\\n')\n",
    "f.close()"
   ]
  },
  {
   "cell_type": "code",
   "execution_count": 5,
   "metadata": {},
   "outputs": [],
   "source": [
    "with open('./complete_matrix.csv','rt')as f:\n",
    "    data = csv.reader(f)\n",
    "    i=0\n",
    "    for row in data:\n",
    "        complete_matrix[int(row[0])][int(row[1])]=float(row[2])"
   ]
  },
  {
   "cell_type": "code",
   "execution_count": 13,
   "metadata": {},
   "outputs": [],
   "source": [
    "import math\n",
    "def similarity(u1,u2,rmat,cmat,w):#lambda = w if user has rated an item, else 1-w\n",
    "    num=0\n",
    "    s1=0\n",
    "    s2=0\n",
    "    for i in range(cols):\n",
    "        s1=s1+cmat[u1][i]\n",
    "        s2=s2+cmat[u2][i]\n",
    "    s1=s1/cols\n",
    "    s2=s2/cols\n",
    "    den1=0\n",
    "    den2=0\n",
    "    for i in range(cols):\n",
    "        if rmat[u1][i]!=0:\n",
    "            num=num+w*(cmat[u1][i]-s1)*(cmat[u2][i]-s2)\n",
    "        else:\n",
    "            num=num+(1-w)*(cmat[u1][i]-s1)*(cmat[u2][i]-s2)\n",
    "        if rmat[u1][i]!=0:\n",
    "            den1=den1+w*(cmat[u1][i]*cmat[u1][i])\n",
    "        else:\n",
    "            den1=den1+(1-w)*(cmat[u1][i]*cmat[u1][i])\n",
    "        den2=den2+(cmat[u2][i]*cmat[u2][i])\n",
    "    den1=math.sqrt(den1)\n",
    "    den2=math.sqrt(den2)\n",
    "    return num/(den1*den2)"
   ]
  },
  {
   "cell_type": "code",
   "execution_count": 14,
   "metadata": {},
   "outputs": [],
   "source": [
    "sim_clusters=[[0 for i in range(rows)] for j in range(rows)]"
   ]
  },
  {
   "cell_type": "code",
   "execution_count": null,
   "metadata": {},
   "outputs": [],
   "source": [
    "#don't execute\n",
    "# f = open(\"sim_clusters_2.csv\",\"w+\")\n",
    "# for i in range(rows):\n",
    "#     j=i+1\n",
    "#     while j!=rows:\n",
    "#         sim_clusters[i][j]=similarity(i,j,rating_mat,complete_matrix,0.8)\n",
    "#         if j%100==0:\n",
    "#             print(\"i: \"+str(i)+\" j: \"+str(j)+\" \"+str(sim_clusters[i][j]))\n",
    "#         f.write(str(i)+\", \"+str(j)+\", \"+str(sim_clusters[i][j])+\"\\n\")\n",
    "#         j=j+1\n",
    "# f.close()"
   ]
  },
  {
   "cell_type": "code",
   "execution_count": 15,
   "metadata": {},
   "outputs": [],
   "source": [
    "with open('./sim_clusters_2.csv','rt')as f:\n",
    "    data = csv.reader(f)\n",
    "    i=0\n",
    "    for row in data:\n",
    "        sim_clusters[int(row[0])][int(row[1])]=float(row[2])"
   ]
  },
  {
   "cell_type": "markdown",
   "metadata": {},
   "source": [
    "Prediction function for smoothened matrix:"
   ]
  },
  {
   "cell_type": "code",
   "execution_count": 28,
   "metadata": {},
   "outputs": [],
   "source": [
    "def predict_clusters2(u,j,_sim_u,rmat,w):\n",
    "    rua=0\n",
    "    for l in range(cols):\n",
    "        rua=rua+rmat[u][l]\n",
    "    rua=rua/cols\n",
    "    num=0\n",
    "    den=0\n",
    "    x = clusters[u]\n",
    "    lis = cl_array[x]\n",
    "    s=0\n",
    "    cnt=0\n",
    "    for i in range(len(lis)):\n",
    "        s=s+rmat[lis[i]][j]\n",
    "        if rmat[i][j]!=0:\n",
    "            cnt=cnt+1\n",
    "        if cnt==0:\n",
    "            s=0\n",
    "        else:\n",
    "            s=s/cnt\n",
    "    for i in range(len(lis)):\n",
    "        num = num+w*sim_u[lis[i]][u]*(rmat[i][j]-s)\n",
    "        den=den+w*sim_u[lis[i]][u]\n",
    "    return rua+(num/den)"
   ]
  },
  {
   "cell_type": "code",
   "execution_count": 29,
   "metadata": {},
   "outputs": [
    {
     "name": "stdout",
     "output_type": "stream",
     "text": [
      "1.4473969151585104\n"
     ]
    }
   ],
   "source": [
    "print(predict_clusters2(1,2,sim_u,rating_mat,0.8))"
   ]
  },
  {
   "cell_type": "code",
   "execution_count": 19,
   "metadata": {},
   "outputs": [],
   "source": [
    "with open('./sim_clusters_2.csv','rt')as f:\n",
    "    data = csv.reader(f)\n",
    "    i=0\n",
    "    for row in data:\n",
    "        sim_clusters[int(row[0])][int(row[1])]=float(row[2])\n",
    "        sim_clusters[int(row[1])][int(row[0])]=float(row[2])   "
   ]
  },
  {
   "cell_type": "markdown",
   "metadata": {},
   "source": [
    "Finding the mean absolute error for different values of hyperparameter w:"
   ]
  },
  {
   "cell_type": "code",
   "execution_count": null,
   "metadata": {},
   "outputs": [],
   "source": [
    "s=0\n",
    "cnt=0\n",
    "for i in range(rows):\n",
    "    for j in range(cols):\n",
    "        if test_mat[i][j]!=0:\n",
    "            x = predict_clusters2(i,j,sim_u,rating_mat,555555)\n",
    "            y = test_mat[i][j]\n",
    "            if j%500==0:\n",
    "                print(\"i: \"+str(i)+\" j: \"+str(j)+\" \"+str(s))\n",
    "            s = s+abs(x-y)\n",
    "            cnt = cnt+1\n",
    "print(s/cnt)\n",
    "# return (s/cnt) 9.140008516577218"
   ]
  },
  {
   "cell_type": "markdown",
   "metadata": {},
   "source": [
    "Finding the rms error for different values of hyperparameter w:"
   ]
  },
  {
   "cell_type": "code",
   "execution_count": null,
   "metadata": {},
   "outputs": [],
   "source": [
    "s=0\n",
    "cnt=0\n",
    "for i in range(rows):\n",
    "    for j in range(cols):\n",
    "        if test_mat[i][j]!=0:\n",
    "            x = predict_clusters2(i,j,sim_clusters,rating_mat,20,0.8)\n",
    "            y = test_mat[i][j]\n",
    "            s = s+(x-y)*(x-y)\n",
    "            cnt = cnt+1\n",
    "#                 if cnt%100==0:\n",
    "#                     print(\"i: \"+str(i)+\" j: \"+str(j)+\" x: \"+str(x)+\" y: \"+str(y))\n",
    "if cnt==0:\n",
    "    print(-1)\n",
    "else:\n",
    "    print(math.sqrt(s/cnt))"
   ]
  },
  {
   "cell_type": "raw",
   "metadata": {},
   "source": [
    "Results of the clustering approaches:\n",
    "Clustering:\n",
    "\tK-means:\n",
    "\t\tk=5: 3.51\n",
    "\t\tk=8: 3.47, 16.95\n",
    "\tSmoothened:\n",
    "        k=8, w=0.8: 3.644\n",
    "        k=8, w=0.6: 3.64"
   ]
  }
 ],
 "metadata": {
  "kernelspec": {
   "display_name": "Python 3",
   "language": "python",
   "name": "python3"
  },
  "language_info": {
   "codemirror_mode": {
    "name": "ipython",
    "version": 3
   },
   "file_extension": ".py",
   "mimetype": "text/x-python",
   "name": "python",
   "nbconvert_exporter": "python",
   "pygments_lexer": "ipython3",
   "version": "3.6.8"
  }
 },
 "nbformat": 4,
 "nbformat_minor": 2
}
