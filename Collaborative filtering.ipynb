{
 "cells": [
  {
   "cell_type": "code",
   "execution_count": null,
   "metadata": {},
   "outputs": [],
   "source": [
    "cd assign_529"
   ]
  },
  {
   "cell_type": "code",
   "execution_count": null,
   "metadata": {},
   "outputs": [],
   "source": [
    "import csv\n",
    "moviemap={}\n",
    "moviemap_inv={}\n",
    "with open('./dataset/ratings.csv','rt')as f:\n",
    "    data = csv.reader(f)\n",
    "    i=0\n",
    "    cnt=0\n",
    "    for row in data:\n",
    "        if i!=0:\n",
    "            x=int(row[1])\n",
    "            if x in moviemap.keys():\n",
    "                print(\"present\")\n",
    "            else:\n",
    "                moviemap[int(row[1])]=cnt\n",
    "                moviemap_inv[cnt]=int(row[1])\n",
    "                cnt=cnt+1\n",
    "        i=i+1\n",
    "#print(cnt) cnt = 9724\n",
    "rows=611\n",
    "cols=9725\n",
    "rating_mat=[[0 for i in range(cols)] for j in range(rows)]\n",
    "test_mat=[[0 for i in range(cols)] for j in range(rows)]\n",
    "with open('./dataset/ratings.csv','rt')as f:\n",
    "    data = csv.reader(f)\n",
    "    i=0\n",
    "    for row in data:\n",
    "        if i!=0:\n",
    "            if i%5==0:\n",
    "                test_mat[int(row[0])][moviemap[int(row[1])]]=float(row[2])\n",
    "            else:\n",
    "                rating_mat[int(row[0])][moviemap[int(row[1])]]=float(row[2])\n",
    "        i=i+1"
   ]
  },
  {
   "cell_type": "markdown",
   "metadata": {},
   "source": [
    "# User-User Based Implementations"
   ]
  },
  {
   "cell_type": "markdown",
   "metadata": {},
   "source": [
    "sim_u is the matrix for user user based pearson similarity"
   ]
  },
  {
   "cell_type": "code",
   "execution_count": 9,
   "metadata": {},
   "outputs": [],
   "source": [
    "sim_u=[[0 for i in range(rows)] for j in range(rows)]#similarity matrix using pearson similarity (user-user)"
   ]
  },
  {
   "cell_type": "markdown",
   "metadata": {},
   "source": [
    "pearson function calculates pearson similarity between two users u1 and u2 on the basis of matrix r:"
   ]
  },
  {
   "cell_type": "code",
   "execution_count": 6,
   "metadata": {},
   "outputs": [],
   "source": [
    "import math\n",
    "def pearson(r,u1, u2):\n",
    "    s1=0\n",
    "    n1=0\n",
    "    s2=0\n",
    "    n2=0\n",
    "    for i in range(cols):\n",
    "        s1 = s1+r[u1][i]\n",
    "        if r[u1][i]!=0:\n",
    "            n1 = n1+1\n",
    "        s2 = s2+r[u2][i]\n",
    "        if r[u2][i]!=0:\n",
    "            n2 = n2+1\n",
    "    if n1==0:\n",
    "        s1=0\n",
    "    else:\n",
    "        s1 = s1/n1\n",
    "    if n2==0:\n",
    "        s2=0\n",
    "    else:\n",
    "        s2 = s2/n2\n",
    "    num=0\n",
    "    for i in range(cols):\n",
    "        if r[u1][i]!=0 and r[u2][i]!=0:\n",
    "            num = num+((r[u1][i]-s1)*(r[u2][i]-s2))\n",
    "    den1=0\n",
    "    den2=0\n",
    "    for i in range(cols):\n",
    "        if r[u1][i]!=0:\n",
    "            den1 = den1+((r[u1][i]-s1)*(r[u1][i]-s1))\n",
    "        if r[u2][i]!=0:\n",
    "            den2 = den2+((r[u2][i]-s2)*(r[u2][i]-s2))\n",
    "    if den1==0 and den2==0:\n",
    "        return 1\n",
    "    else:\n",
    "        if den1==0 or den2==0:\n",
    "            return 0\n",
    "    den1 = math.sqrt(den1)\n",
    "    den2 = math.sqrt(den2)\n",
    "#     print(\"num: \"+str(num)+\" den: \"+str(den1)+\" \"+str(den2))\n",
    "    ans = num/(den1*den2)\n",
    "    return ans"
   ]
  },
  {
   "cell_type": "code",
   "execution_count": 7,
   "metadata": {},
   "outputs": [
    {
     "name": "stdout",
     "output_type": "stream",
     "text": [
      "0.014064840478826626\n"
     ]
    }
   ],
   "source": [
    "print(pearson(rating_mat,20,30))"
   ]
  },
  {
   "cell_type": "markdown",
   "metadata": {},
   "source": [
    "For calculating similarity matrix and writing the values in a file:"
   ]
  },
  {
   "cell_type": "code",
   "execution_count": null,
   "metadata": {},
   "outputs": [],
   "source": [
    "#execute only if want to make similarity matrix of user user again\n",
    "# f = open(\"sim.csv\",\"w+\")\n",
    "# for i in range(rows):\n",
    "#     j=i+1\n",
    "#     while j!=rows:\n",
    "#         sim_u[i][j]=pearson(rating_mat,i,j)\n",
    "#         print(\"i: \"+str(i)+\" j: \"+str(j)+\" \"+str(sim_u[i][j]))\n",
    "#         f.write(str(i)+\", \"+str(j)+\", \"+str(sim_u[i][j])+\"\\n\")\n",
    "#         j=j+1"
   ]
  },
  {
   "cell_type": "markdown",
   "metadata": {},
   "source": [
    "Reading similarity matrix from file:"
   ]
  },
  {
   "cell_type": "code",
   "execution_count": 10,
   "metadata": {},
   "outputs": [],
   "source": [
    "with open('./sim.csv','rt')as f:\n",
    "    data = csv.reader(f)\n",
    "    i=0\n",
    "    for row in data:\n",
    "        sim_u[int(row[0])][int(row[1])]=float(row[2])\n",
    "        sim_u[int(row[1])][int(row[0])]=float(row[2])    "
   ]
  },
  {
   "cell_type": "markdown",
   "metadata": {},
   "source": [
    "Finding top k most similar users:"
   ]
  },
  {
   "cell_type": "code",
   "execution_count": 8,
   "metadata": {},
   "outputs": [],
   "source": [
    "def find_top_k(u, smat, k):\n",
    "    lis =[]\n",
    "    for i in range(rows):\n",
    "        if i!=u:\n",
    "#             print(\"len: \"+str(len(smat))+\" \"+str(len(smat[0])))\n",
    "#             print(\"u: \"+str(u)+\" i: \"+str(i))\n",
    "            lis.append((i,smat[u][i]))\n",
    "    lis.sort(key = lambda x: x[1]) \n",
    "    lis1=[]\n",
    "    cnt=0\n",
    "    for t in lis:\n",
    "        lis1.append(t[0])\n",
    "        cnt=cnt+1\n",
    "        if cnt==k:\n",
    "            break\n",
    "    return lis1"
   ]
  },
  {
   "cell_type": "markdown",
   "metadata": {},
   "source": [
    "Function to predict the rating of user u for item j using the k most similar users:"
   ]
  },
  {
   "cell_type": "code",
   "execution_count": 11,
   "metadata": {},
   "outputs": [],
   "source": [
    "def predict(u,j,smat,rmat,k):\n",
    "    lis = find_top_k(u,smat,k)\n",
    "#     print(lis)\n",
    "    num=0\n",
    "    den=0\n",
    "    for i in range(k):\n",
    "        if(rmat[lis[i]][j]!=0):\n",
    "#             print(\"hey: \"+str(lis[i]))\n",
    "            den=den+smat[u][lis[i]]\n",
    "            num = num+smat[u][lis[i]]*rmat[lis[i]][j]\n",
    "    if den==0:\n",
    "        return 0\n",
    "    return (num/den)"
   ]
  },
  {
   "cell_type": "markdown",
   "metadata": {},
   "source": [
    "Function for finding the mean absolute error:"
   ]
  },
  {
   "cell_type": "code",
   "execution_count": 61,
   "metadata": {},
   "outputs": [],
   "source": [
    "def test_pred(tmat,smat,k):\n",
    "    s=0\n",
    "    cnt=0\n",
    "    for i in range(rows):\n",
    "        for j in range(cols):\n",
    "            if tmat[i][j]!=0:\n",
    "                x = predict(i,j,smat,tmat,k)\n",
    "                y = tmat[i][j]\n",
    "                s = s+abs(x-y)\n",
    "                cnt = cnt+1\n",
    "#                 if cnt%100==0:\n",
    "#                     print(\"i: \"+str(i)+\" j: \"+str(j)+\" x: \"+str(x)+\" y: \"+str(y))\n",
    "    if cnt==0:\n",
    "        return -1\n",
    "    else:\n",
    "        return (s/cnt)"
   ]
  },
  {
   "cell_type": "markdown",
   "metadata": {},
   "source": [
    "Function for finding the rms error:"
   ]
  },
  {
   "cell_type": "code",
   "execution_count": 12,
   "metadata": {},
   "outputs": [],
   "source": [
    "def test_pred_rms(tmat,smat,k):\n",
    "    s=0\n",
    "    cnt=0\n",
    "    for i in range(rows):\n",
    "        for j in range(cols):\n",
    "            if tmat[i][j]!=0:\n",
    "                x = predict(i,j,smat,tmat,k)\n",
    "                y = tmat[i][j]\n",
    "                s = s+(x-y)*(x-y)\n",
    "                cnt = cnt+1\n",
    "#                 if cnt%100==0:\n",
    "#                     print(\"i: \"+str(i)+\" j: \"+str(j)+\" x: \"+str(x)+\" y: \"+str(y))\n",
    "    if cnt==0:\n",
    "        return -1\n",
    "    else:\n",
    "        return math.sqrt(s/cnt)"
   ]
  },
  {
   "cell_type": "markdown",
   "metadata": {},
   "source": [
    "Function for finding cosine similarity between users u1 and u2:"
   ]
  },
  {
   "cell_type": "code",
   "execution_count": 91,
   "metadata": {},
   "outputs": [],
   "source": [
    "def cosine(r,u1,u2):\n",
    "    num=0\n",
    "    for i in range(cols):\n",
    "        if r[u1][i]!=0 and r[u2][i]!=0:\n",
    "            num = num+(r[u1][i]*r[u2][i])\n",
    "    den1=0\n",
    "    den2=0\n",
    "    for i in range(cols):\n",
    "        den1 = den1+(r[u1][i]*r[u1][i])\n",
    "        den2 = den2+(r[u2][i]*r[u2][i])\n",
    "    den1 = math.sqrt(den1)\n",
    "    den2 = math.sqrt(den2)\n",
    "    if den1==0 and den2==0:\n",
    "        return 1\n",
    "    else:\n",
    "        if den1==0 or den2==0:\n",
    "            return 0\n",
    "    return num/(den1*den2)"
   ]
  },
  {
   "cell_type": "code",
   "execution_count": 71,
   "metadata": {},
   "outputs": [],
   "source": [
    "sim_u_c=[[0 for i in range(rows)] for j in range(rows)]#similarity matrix using cosine similarity (user-user)"
   ]
  },
  {
   "cell_type": "code",
   "execution_count": 72,
   "metadata": {},
   "outputs": [],
   "source": [
    "with open('./sim_u_c.csv','rt')as f:\n",
    "    data = csv.reader(f)\n",
    "    i=0\n",
    "    for row in data:\n",
    "        sim_u_c[int(row[0])][int(row[1])]=float(row[2])\n",
    "        sim_u_c[int(row[1])][int(row[0])]=float(row[2])    "
   ]
  },
  {
   "cell_type": "code",
   "execution_count": null,
   "metadata": {},
   "outputs": [],
   "source": [
    "#execute only if wish to construct cosine based user user matrix again\n",
    "# f.close()\n",
    "# f = open(\"sim_u_c.csv\",\"w+\")\n",
    "# for i in range(rows):\n",
    "#     j=i+1\n",
    "#     while j!=rows:\n",
    "#         x=pearson(rating_mat,i,j)\n",
    "#         sim_u_c[i][j]=x\n",
    "#         sim_u_c[j][i]=x\n",
    "# #         if i%50==0:\n",
    "#         f.write(str(i)+\", \"+str(j)+\", \"+str(sim_u_c[i][j])+\"\\n\")\n",
    "#         print(\"i: \"+str(i)+\" j: \"+str(j)+\" \"+str(sim_u_c[i][j]))\n",
    "#         j=j+1\n",
    "# f.close()"
   ]
  },
  {
   "cell_type": "code",
   "execution_count": 73,
   "metadata": {},
   "outputs": [
    {
     "name": "stdout",
     "output_type": "stream",
     "text": [
      "3.2730325168250123\n"
     ]
    }
   ],
   "source": [
    "print(test_pred_rms(test_mat,sim_u_c,20))"
   ]
  },
  {
   "cell_type": "raw",
   "metadata": {},
   "source": [
    "Results:\n",
    "Pearson Similarity:\n",
    "        k,  MAE, RMS Error\n",
    "\t\tk=20: 2.95, 3.27\n",
    "\t\tk=50: 2.52, 2.94\n",
    "\t\tk=100: 2.15, 2.62\n",
    "\t\tk=200: 2.156, 15.107\n",
    "Cosine Similarity:\n",
    "\t\tk=20: 2.959, 3.27\n",
    "\t\tk=50: 2.52, 2.95\n",
    "\t\tk=100: 2.16, 2.63\n",
    "\t\tk=200: 2.17, 15.1"
   ]
  },
  {
   "cell_type": "markdown",
   "metadata": {},
   "source": [
    "# Mean Centered Matrix (User based)"
   ]
  },
  {
   "cell_type": "markdown",
   "metadata": {},
   "source": [
    "Calculation of mean centered matrix:"
   ]
  },
  {
   "cell_type": "code",
   "execution_count": 17,
   "metadata": {},
   "outputs": [],
   "source": [
    "mean_centered=[[0 for i in range(cols)] for j in range(rows)]"
   ]
  },
  {
   "cell_type": "code",
   "execution_count": 18,
   "metadata": {},
   "outputs": [],
   "source": [
    "for i in range(rows):\n",
    "    s=0\n",
    "    cnt=0\n",
    "    for j in range(cols):\n",
    "        s = s+rating_mat[i][j]\n",
    "        if rating_mat[i][j]!=0:\n",
    "            cnt=cnt+1\n",
    "    if cnt==0:\n",
    "        s=0\n",
    "    else:\n",
    "        s=s/cnt\n",
    "    for j in range(cols):\n",
    "        if rating_mat[i][j]!=0:\n",
    "            mean_centered[i][j]=rating_mat[i][j]-s"
   ]
  },
  {
   "cell_type": "markdown",
   "metadata": {},
   "source": [
    "Prediction function for mean centered matrix:"
   ]
  },
  {
   "cell_type": "code",
   "execution_count": 21,
   "metadata": {},
   "outputs": [],
   "source": [
    "def predict_mean_centered(u,j,smat,rmat,mean_centered,k):\n",
    "    lis = find_top_k(u,smat,k)\n",
    "#     print(lis)\n",
    "    num=0\n",
    "    den=0\n",
    "    avg=0\n",
    "    cnt=0\n",
    "    for i in range(cols):\n",
    "#         print(\"cols: \"+str(cols))\n",
    "#         print(\"u: \"+str(u)+\" i: \"+str(i))\n",
    "        avg=avg+rmat[u][i]\n",
    "        if rmat[u][i]!=0:\n",
    "            cnt=cnt+1\n",
    "    if cnt==0:\n",
    "        avg=0\n",
    "    else:\n",
    "        avg=avg/cnt\n",
    "    for i in range(k):\n",
    "        if(rmat[lis[i]][j]!=0):\n",
    "#             print(\"hey: \"+str(lis[i]))\n",
    "            den=den+smat[u][lis[i]]\n",
    "            num = num+smat[u][lis[i]]*mean_centered[lis[i]][j]\n",
    "    if den==0:\n",
    "        return 0\n",
    "    return (avg+(num/den))"
   ]
  },
  {
   "cell_type": "markdown",
   "metadata": {},
   "source": [
    "Function for calulating mean absolute error for mean centered matrix:"
   ]
  },
  {
   "cell_type": "code",
   "execution_count": 8,
   "metadata": {},
   "outputs": [],
   "source": [
    "def test_pred_mean_centered(tmat,smat,rmat,mc_mat,k):\n",
    "    s=0\n",
    "    cnt=0\n",
    "    for i in range(rows):\n",
    "        for j in range(cols):\n",
    "            if tmat[i][j]!=0:\n",
    "                x = predict_mean_centered(i,j,smat,rmat,mc_mat,k)\n",
    "                y = tmat[i][j]\n",
    "                s = s+abs(x-y)\n",
    "                cnt = cnt+1\n",
    "#                 if cnt%100==0:\n",
    "                print(\"i: \"+str(i)+\" j: \"+str(j)+\" x: \"+str(x)+\" y: \"+str(y))\n",
    "    return (s/cnt)"
   ]
  },
  {
   "cell_type": "markdown",
   "metadata": {},
   "source": [
    "Function for calulating rms error for mean centered matrix:"
   ]
  },
  {
   "cell_type": "code",
   "execution_count": 16,
   "metadata": {},
   "outputs": [],
   "source": [
    "def test_pred_mean_centered_rms(tmat,smat,rmat,mc_mat,k):\n",
    "    s=0\n",
    "    cnt=0\n",
    "    for i in range(rows):\n",
    "        for j in range(cols):\n",
    "            if tmat[i][j]!=0:\n",
    "                x = predict_mean_centered(i,j,smat,rmat,mc_mat,k)\n",
    "                y = tmat[i][j]\n",
    "                s = s+(x-y)*(x-y)\n",
    "                cnt = cnt+1\n",
    "#                 if cnt%100==0:\n",
    "#                 print(\"i: \"+str(i)+\" j: \"+str(j)+\" x: \"+str(x)+\" y: \"+str(y))\n",
    "    return math.sqrt(s/cnt)"
   ]
  },
  {
   "cell_type": "code",
   "execution_count": 80,
   "metadata": {},
   "outputs": [
    {
     "name": "stdout",
     "output_type": "stream",
     "text": [
      "23.10056788567136\n"
     ]
    }
   ],
   "source": [
    "print(test_pred_mean_centered_rms(test_mat,sim_u,rating_mat,mean_centered,200))#1.9943681371727275"
   ]
  },
  {
   "cell_type": "code",
   "execution_count": null,
   "metadata": {},
   "outputs": [],
   "source": [
    "print(test_pred_mean_centered(test_mat,sim_u_c,rating_mat,mean_centered,200))#1.7925364356314288"
   ]
  },
  {
   "cell_type": "raw",
   "metadata": {},
   "source": [
    "Results:\n",
    "Pearson Similarity:\n",
    "\t\tk=20: 2.29, 2.755\n",
    "\t\tk=50: 1.79, 2.30\n",
    "\t\tk=100: 1.47, 1.98\n",
    "\t\tk=200: 1.62, 23.1\n",
    "Cosine Similarity:\n",
    "\t\tk=20: 2.29, 2.855\n",
    "\t\tk=50: 1.792, 2.3\n",
    "\t\tk=100: 1.479, 1.98\n",
    "\t\tk=200: 1.63, 23.2"
   ]
  },
  {
   "cell_type": "markdown",
   "metadata": {},
   "source": [
    "# Normalized Matrix (User Based)"
   ]
  },
  {
   "cell_type": "code",
   "execution_count": 26,
   "metadata": {},
   "outputs": [],
   "source": [
    "normalized=[[0 for i in range(cols)] for j in range(rows)]"
   ]
  },
  {
   "cell_type": "code",
   "execution_count": null,
   "metadata": {},
   "outputs": [],
   "source": [
    "normalized=[[0 for i in range(cols)] for j in range(rows)]\n",
    "for i in range(rows):\n",
    "    s=0\n",
    "    cnt=0\n",
    "    for j in range(cols):\n",
    "        s = s+rating_mat[i][j]\n",
    "        if rating_mat[i][j]!=0:\n",
    "            cnt=cnt+1\n",
    "    if cnt==0:\n",
    "        s=0\n",
    "    else:\n",
    "        s=s/cnt\n",
    "    print(\"s: \"+str(s))\n",
    "    dev=0\n",
    "    for j in range(cols):\n",
    "        if rating_mat[i][j]!=0:\n",
    "            dev = dev+(rating_mat[i][j]-s)*(rating_mat[i][j]-s)\n",
    "    if cnt==0:\n",
    "        dev=0\n",
    "    else:\n",
    "        dev = dev/cnt\n",
    "    dev = math.sqrt(dev)\n",
    "    for j in range(cols):\n",
    "        if dev!=0:\n",
    "            normalized[i][j]=(abs(rating_mat[i][j]-s))/dev\n",
    "# print(\"cnt: \"+str(cnt))\n",
    "#             normalized[j][i]=(rating_mat[i][j]-s)/dev\n",
    "#     print(\"i: \"+str(i)+\" j: \"+str(j))"
   ]
  },
  {
   "cell_type": "markdown",
   "metadata": {},
   "source": [
    "Prediction function for normalized matrix:"
   ]
  },
  {
   "cell_type": "code",
   "execution_count": 28,
   "metadata": {},
   "outputs": [],
   "source": [
    "def predict_normalized(u,j,smat,rmat,normal_mat,k):\n",
    "    lis = find_top_k(u,smat,k)\n",
    "    print(lis)\n",
    "    num=0\n",
    "    den=0\n",
    "    avg=0\n",
    "    cnt=0\n",
    "    for i in range(cols):\n",
    "        avg=avg+normal_mat[u][i]\n",
    "        if normal_mat[u][i]!=0:\n",
    "#             print(\"hello\")\n",
    "            cnt=cnt+1\n",
    "    if cnt==0:\n",
    "        avg=0\n",
    "    else:\n",
    "        avg=avg/cnt\n",
    "    dev=0\n",
    "#     print(\"cnt: \"+str(cnt)+\" \"+str(avg))\n",
    "    for i in range(cols):\n",
    "        if normal_mat[u][i]!=0:\n",
    "            dev=dev+(normal_mat[u][i]-avg)*(normal_mat[u][i]-avg)\n",
    "    if cnt==0:\n",
    "        dev=0\n",
    "    else:\n",
    "        dev = math.sqrt(dev/cnt)\n",
    "#     print(\"dev: \"+str(dev))\n",
    "    for i in range(k):\n",
    "#         print(\"rmat: \"+str(rmat[lis[i]][j]))\n",
    "        if(rmat[lis[i]][j]!=0):\n",
    "#             print(\"hey: \"+str(lis[i]))\n",
    "            den=den+smat[u][lis[i]]\n",
    "#             print(smat[u][lis[i]])\n",
    "            num = num+smat[u][lis[i]]*normal_mat[lis[i]][j]\n",
    "    if den==0:\n",
    "        return 0\n",
    "    print(\"avg: \"+str(avg)+\" dev: \"+str(dev))\n",
    "    return (avg+(dev*num/den))"
   ]
  },
  {
   "cell_type": "code",
   "execution_count": 29,
   "metadata": {},
   "outputs": [
    {
     "name": "stdout",
     "output_type": "stream",
     "text": [
      "[39, 401, 194, 34, 566, 405, 339, 336, 377, 155, 272, 67, 416, 134, 497, 123, 120, 103, 238, 419, 130, 81, 125, 491, 412, 538, 37, 390, 369, 458, 459, 598, 572, 3, 41, 247, 285, 551, 59, 176, 316, 60, 148, 76, 394, 313, 462, 79, 283, 562]\n",
      "avg: 3.0216156694202985 dev: 0.3309087467851954\n"
     ]
    },
    {
     "data": {
      "text/plain": [
       "3.2176620791532535"
      ]
     },
     "execution_count": 29,
     "metadata": {},
     "output_type": "execute_result"
    }
   ],
   "source": [
    "predict_normalized(20,30,sim_u,rating_mat,normalized,50)"
   ]
  },
  {
   "cell_type": "markdown",
   "metadata": {},
   "source": [
    "Finding the mean absolute error for normalized matrix:"
   ]
  },
  {
   "cell_type": "code",
   "execution_count": 30,
   "metadata": {},
   "outputs": [],
   "source": [
    "def test_pred_normalized(tmat,smat,rmat,nmat,k):\n",
    "    s=0\n",
    "    cnt=0\n",
    "    for i in range(rows):\n",
    "        for j in range(cols):\n",
    "            if tmat[i][j]!=0:\n",
    "                x = predict_normalized(i,j,smat,rmat,nmat,k)\n",
    "                y = tmat[i][j]\n",
    "                s = s+abs(x-y)\n",
    "                cnt = cnt+1\n",
    "#                 if cnt%100==0:\n",
    "#                 print(\"i: \"+str(i)+\" j: \"+str(j)+\" x: \"+str(x)+\" y: \"+str(y))\n",
    "    return (s/cnt)"
   ]
  },
  {
   "cell_type": "markdown",
   "metadata": {},
   "source": [
    "Finding the rms error for normalized matrix:"
   ]
  },
  {
   "cell_type": "code",
   "execution_count": 84,
   "metadata": {},
   "outputs": [],
   "source": [
    "def test_pred_normalized_rms(tmat,smat,rmat,nmat,k):\n",
    "    s=0\n",
    "    cnt=0\n",
    "    for i in range(rows):\n",
    "        for j in range(cols):\n",
    "            if tmat[i][j]!=0:\n",
    "                x = predict_normalized(i,j,smat,rmat,nmat,k)\n",
    "                y = tmat[i][j]\n",
    "                s = s+(x-y)*(x-y)\n",
    "                cnt = cnt+1\n",
    "#                 if cnt%100==0:\n",
    "#                 print(\"i: \"+str(i)+\" j: \"+str(j)+\" x: \"+str(x)+\" y: \"+str(y))\n",
    "    return math.sqrt(s/cnt)"
   ]
  },
  {
   "cell_type": "code",
   "execution_count": null,
   "metadata": {},
   "outputs": [],
   "source": [
    "print(test_pred_normalized(test_mat,sim_u,rating_mat,normalized,200))#11.362225790470779"
   ]
  },
  {
   "cell_type": "code",
   "execution_count": null,
   "metadata": {},
   "outputs": [],
   "source": [
    "print(test_pred_normalized(test_mat,sim_u,rating_mat,normalized,50))#11.362225790470779"
   ]
  },
  {
   "cell_type": "code",
   "execution_count": null,
   "metadata": {},
   "outputs": [],
   "source": [
    "print(test_pred_normalized(test_mat,sim_u_c,rating_mat,normalized,300))"
   ]
  },
  {
   "cell_type": "code",
   "execution_count": null,
   "metadata": {},
   "outputs": [],
   "source": [
    "print(test_pred_normalized_rms(test_mat,sim_u_c,rating_mat,normalized,200))"
   ]
  },
  {
   "cell_type": "raw",
   "metadata": {},
   "source": [
    "Results:\n",
    "Normalized:\n",
    "\tPearson Similarity:\n",
    "\t\tk=50: 2.12, 2.58\n",
    "\t\tk=100: 1.89, 2.37\n",
    "\t\tk=200: 1.83, 7.109\n",
    "\tCosine Similarity:\n",
    "\t\tk=20: 2.51, 2.93\n",
    "\t\tk=100: 1.89, 2.37\n",
    "\t\tk=200: 1.87, 7.109"
   ]
  },
  {
   "cell_type": "markdown",
   "metadata": {},
   "source": [
    "# Countering Long Tail Effect"
   ]
  },
  {
   "cell_type": "markdown",
   "metadata": {},
   "source": [
    "Inverse User Frequency is calculated for each user in iuf:"
   ]
  },
  {
   "cell_type": "code",
   "execution_count": 13,
   "metadata": {},
   "outputs": [],
   "source": [
    "#taking measures to counter long tail effect\n",
    "iuf = [0 for i in range(cols)]\n",
    "for j in range(cols):\n",
    "    cnt=0\n",
    "    for i in range(rows):\n",
    "        if rating_mat[i][j]!=0:\n",
    "            cnt=cnt+1\n",
    "    iuf[j]=cnt/rows"
   ]
  },
  {
   "cell_type": "markdown",
   "metadata": {},
   "source": [
    "Weighted similarity is calculated for users u1 and u2 using the iuf weights"
   ]
  },
  {
   "cell_type": "code",
   "execution_count": 130,
   "metadata": {},
   "outputs": [],
   "source": [
    "def similarity_iuf(r,u1,u2,arr_iuf):\n",
    "    s1=0\n",
    "    n1=0\n",
    "    s2=0\n",
    "    n2=0\n",
    "    for i in range(cols):\n",
    "        s1 = s1+r[u1][i]\n",
    "        if r[u1][i]!=0:\n",
    "            n1 = n1+1\n",
    "        s2 = s2+r[u2][i]\n",
    "        if r[u2][i]!=0:\n",
    "            n2 = n2+1\n",
    "    if n1==0:\n",
    "        s1=0\n",
    "    else:\n",
    "        s1 = s1/n1\n",
    "    if n2==0:\n",
    "        s2=0\n",
    "    else:\n",
    "        s2 = s2/n2\n",
    "    num=0\n",
    "    for i in range(cols):\n",
    "        if r[u1][i]!=0 and r[u2][i]!=0:\n",
    "            num = num+(arr_iuf[i]*(r[u1][i]-s1)*(r[u2][i]-s2))\n",
    "    den1=0\n",
    "    den2=0\n",
    "    for i in range(cols):\n",
    "        if r[u1][i]!=0:\n",
    "            den1 = den1+(arr_iuf[i]*(r[u1][i]-s1)*(r[u1][i]-s1))\n",
    "        if r[u2][i]!=0:\n",
    "            den2 = den2+(arr_iuf[i]*(r[u2][i]-s2)*(r[u2][i]-s2))\n",
    "    if den1==0 and den2==0:\n",
    "        return 1\n",
    "    else:\n",
    "        if den1==0 or den2==0:\n",
    "            return 0\n",
    "    den1 = math.sqrt(den1)\n",
    "    den2 = math.sqrt(den2)\n",
    "#     print(\"num: \"+str(num)+\" den: \"+str(den1)+\" \"+str(den2))\n",
    "    ans = num/(den1*den2)\n",
    "    return ans"
   ]
  },
  {
   "cell_type": "code",
   "execution_count": 14,
   "metadata": {},
   "outputs": [],
   "source": [
    "sim_u_iuf=[[0 for i in range(rows)] for j in range(rows)]"
   ]
  },
  {
   "cell_type": "code",
   "execution_count": null,
   "metadata": {},
   "outputs": [],
   "source": [
    "# execute only if wish to compute similarity matrix again\n",
    "# f = open(\"sim_u_iuf.csv\",\"w+\")\n",
    "# for i in range(rows):\n",
    "#     j=i+1\n",
    "#     while j!=rows:\n",
    "#         sim_u_iuf[i][j]=similarity_iuf(rating_mat,i,j,iuf)\n",
    "#         if j%100==0:\n",
    "#             print(\"i: \"+str(i)+\" j: \"+str(j)+\" \"+str(sim_u_iuf[i][j]))\n",
    "#         f.write(str(i)+\", \"+str(j)+\", \"+str(sim_u_iuf[i][j])+\"\\n\")\n",
    "#         j=j+1\n",
    "# f.close()"
   ]
  },
  {
   "cell_type": "code",
   "execution_count": 19,
   "metadata": {},
   "outputs": [],
   "source": [
    "with open('./sim_u_iuf.csv','rt')as f:\n",
    "    data = csv.reader(f)\n",
    "    i=0\n",
    "    for row in data:\n",
    "        sim_u_iuf[int(row[0])][int(row[1])]=float(row[2])\n",
    "        sim_u_iuf[int(row[1])][int(row[0])]=float(row[2])  "
   ]
  },
  {
   "cell_type": "code",
   "execution_count": 25,
   "metadata": {},
   "outputs": [
    {
     "name": "stdout",
     "output_type": "stream",
     "text": [
      "1.9734430622146786\n"
     ]
    }
   ],
   "source": [
    "print(test_pred_mean_centered_rms(test_mat,sim_u_iuf,rating_mat,mean_centered,100))"
   ]
  },
  {
   "cell_type": "raw",
   "metadata": {},
   "source": [
    "Taking IUF(Mean Centered):\n",
    "        k, MAE, RMS Error\n",
    "\t\tk=20: 2.32, 2.78\n",
    "\t\tk=50: 1.81, 2.32\n",
    "\t\tk=100:1.47, 1.97\n",
    "\t\tk=200: 1.57, 9.15"
   ]
  },
  {
   "cell_type": "markdown",
   "metadata": {},
   "source": [
    "# Item-Item Based Ratings (Mean-Centered)"
   ]
  },
  {
   "cell_type": "markdown",
   "metadata": {},
   "source": [
    "Finding the transpose of required matrices:"
   ]
  },
  {
   "cell_type": "code",
   "execution_count": 96,
   "metadata": {},
   "outputs": [],
   "source": [
    "#item-item\n",
    "temp=rows\n",
    "rows=cols\n",
    "cols=temp\n",
    "rating_mat_trans = [[rating_mat[j][i] for j in range(len(rating_mat))] for i in range(len(rating_mat[0]))] \n",
    "test_mat_trans = [[test_mat[j][i] for j in range(len(test_mat))] for i in range(len(test_mat[0]))] "
   ]
  },
  {
   "cell_type": "code",
   "execution_count": 97,
   "metadata": {},
   "outputs": [],
   "source": [
    "#mean_centering\n",
    "mean_centered_t=[[0 for i in range(cols)] for j in range(rows)]\n",
    "for i in range(rows):\n",
    "    avg=0\n",
    "    cnt=0\n",
    "    for j in range(cols):\n",
    "        avg = avg+rating_mat_trans[i][j]\n",
    "        if rating_mat_trans[i][j]!=0:\n",
    "            cnt=cnt+1\n",
    "    if cnt==0:\n",
    "        avg=0\n",
    "    else:\n",
    "        avg=avg/cnt\n",
    "    for j in range(cols):\n",
    "        if rating_mat_trans[i][j]!=0:\n",
    "            mean_centered_t[i][j]=rating_mat_trans[i][j]-avg"
   ]
  },
  {
   "cell_type": "markdown",
   "metadata": {},
   "source": [
    "Finding the similarity between two items using pearson based similarity in sim_i matrix"
   ]
  },
  {
   "cell_type": "code",
   "execution_count": 98,
   "metadata": {},
   "outputs": [],
   "source": [
    "sim_i=[[0 for i in range(rows)] for j in range(rows)]"
   ]
  },
  {
   "cell_type": "code",
   "execution_count": null,
   "metadata": {},
   "outputs": [],
   "source": [
    "# execute only if wish to construct cosine based item item matrix again\n",
    "# f = open(\"sim_i.csv\",\"w+\")\n",
    "# for i in range(rows):\n",
    "#     j=i+1\n",
    "#     while j!=rows:\n",
    "#         sim_i[i][j]=pearson(rating_mat_trans,i,j)\n",
    "#         if j%100==0:\n",
    "#             print(\"i: \"+str(i)+\" j: \"+str(j)+\" \"+str(sim_i[i][j]))\n",
    "#         f.write(str(i)+\", \"+str(j)+\", \"+str(sim_i[i][j])+\"\\n\")\n",
    "#         j=j+1\n",
    "# f.close()"
   ]
  },
  {
   "cell_type": "code",
   "execution_count": null,
   "metadata": {},
   "outputs": [],
   "source": [
    "with open('./sim_i.csv','rt')as f:\n",
    "    data = csv.reader(f)\n",
    "    i=0\n",
    "    for row in data:\n",
    "        if(len(row)>=2):\n",
    "            if int(row[1])%500==0 and int(row[0])%100==0:\n",
    "                print(row[0]+\" \"+row[1]+\" \"+row[2])\n",
    "            sim_i[int(row[0])][int(row[1])]=float(row[2])\n",
    "            sim_i[int(row[1])][int(row[0])]=float(row[2])    "
   ]
  },
  {
   "cell_type": "code",
   "execution_count": null,
   "metadata": {},
   "outputs": [],
   "source": [
    "# f.close()\n",
    "# f = open(\"sim_i.csv\",\"a+\")\n",
    "# f.write(\"\\n\")\n",
    "# for i in range(3074,3075):\n",
    "#     j=6168\n",
    "#     while(j!=rows):\n",
    "#         sim_i[i][j]=pearson(rating_mat_trans,i,j)\n",
    "#         if j%100==0:\n",
    "#             print(\"i: \"+str(i)+\" j: \"+str(j)+\" \"+str(sim_i[i][j]))\n",
    "#         f.write(str(i)+\", \"+str(j)+\", \"+str(sim_i[i][j])+\"\\n\")\n",
    "#         j=j+1\n",
    "# for i in range(3075,rows):\n",
    "#     j=i+1\n",
    "#     while j!=rows:\n",
    "#         sim_i[i][j]=pearson(rating_mat_trans,i,j)\n",
    "#         if j%100==0:\n",
    "#             print(\"i: \"+str(i)+\" j: \"+str(j)+\" \"+str(sim_i[i][j]))\n",
    "#         f.write(str(i)+\", \"+str(j)+\", \"+str(sim_i[i][j])+\"\\n\")\n",
    "#         j=j+1\n",
    "# f.close()"
   ]
  },
  {
   "cell_type": "markdown",
   "metadata": {},
   "source": [
    "Finding the similarity between two items using cosine based similarity in sim_i matrix"
   ]
  },
  {
   "cell_type": "code",
   "execution_count": null,
   "metadata": {},
   "outputs": [],
   "source": [
    "sim_i_c=[[0 for i in range(rows)] for j in range(rows)]\n",
    "with open('./sim_i_c.csv','rt')as f:\n",
    "    data = csv.reader(f)\n",
    "    i=0\n",
    "    for row in data:\n",
    "        if(len(row)>=2):\n",
    "            if int(row[1])%500==0 and int(row[0])%100==0:\n",
    "                print(row[0]+\" \"+row[1]+\" \"+row[2])\n",
    "            sim_i_c[int(row[0])][int(row[1])]=float(row[2])\n",
    "            sim_i_c[int(row[1])][int(row[0])]=float(row[2])    "
   ]
  },
  {
   "cell_type": "code",
   "execution_count": 101,
   "metadata": {},
   "outputs": [
    {
     "name": "stdout",
     "output_type": "stream",
     "text": [
      "1.3007271507586615\n"
     ]
    }
   ],
   "source": [
    "print(test_pred_mean_centered_rms(test_mat_trans,sim_i,rating_mat_trans,mean_centered_t,1500))#test_pred_mean_centered(tmat,smat,rmat,mc_mat,k) 0.893"
   ]
  },
  {
   "cell_type": "raw",
   "metadata": {},
   "source": [
    "Item-Item Results:\n",
    "Pearson Similarity(Mean Centered):\n",
    "\tk=20: 2.72\n",
    "\tk=50: 2.16\n",
    "\tk=100: 1.7\n",
    "\tk=200: 1.31\n",
    "\tk=800: 0.93\n",
    "\tk=1000: 0.915\n",
    "\tk=1500: 0.896\n",
    "\tk=1800: 0.893, 1.296\n",
    "\tk=2500: 0.893, 1.3\n",
    "Cosine Similarity(Mean Centered):\n",
    "\tk=1800: 3.5"
   ]
  },
  {
   "cell_type": "code",
   "execution_count": 21,
   "metadata": {},
   "outputs": [],
   "source": [
    "sim_i_c=[[0 for i in range(rows)] for j in range(rows)]"
   ]
  },
  {
   "cell_type": "code",
   "execution_count": null,
   "metadata": {},
   "outputs": [],
   "source": [
    "# f = open(\"sim_i_c.csv\",\"w+\")\n",
    "# for i in range(rows):\n",
    "#     j=i+1\n",
    "#     while j!=rows:\n",
    "#         sim_i_c[i][j]=cosine(rating_mat_trans,i,j)\n",
    "#         if j%100==0:\n",
    "#             print(\"i: \"+str(i)+\" j: \"+str(j)+\" \"+str(sim_i_c[i][j]))\n",
    "#         f.write(str(i)+\", \"+str(j)+\", \"+str(sim_i_c[i][j])+\"\\n\")\n",
    "#         j=j+1\n",
    "# f.close()"
   ]
  },
  {
   "cell_type": "markdown",
   "metadata": {},
   "source": [
    "# Approach for finding the best possible ratings using Item-Item and User-User"
   ]
  },
  {
   "cell_type": "code",
   "execution_count": 54,
   "metadata": {},
   "outputs": [
    {
     "name": "stdout",
     "output_type": "stream",
     "text": [
      "i: 0 j: 200 x: 4.282365028957527 y: 3.5\n",
      "i: 1000 j: 500 x: 3.4985725937906405 y: 3.0\n",
      "i: 4500 j: 200 x: 1.5005139142631048 y: 3.0\n",
      "1.1090616199417764\n"
     ]
    }
   ],
   "source": [
    "#combining item-item and user-user approach\n",
    "s=0\n",
    "cnt=0\n",
    "rows_new =rows\n",
    "cols_new =cols\n",
    "for i in range(rows_new):\n",
    "    for j in range(cols_new):\n",
    "        if test_mat_trans[i][j]!=0:\n",
    "            x1 = predict_mean_centered(i,j,sim_i,rating_mat_trans,mean_centered_t,1800)\n",
    "            rows=cols_new\n",
    "            cols=rows_new\n",
    "            x2 = predict_mean_centered(j,i,sim_u,rating_mat,mean_centered,100)\n",
    "            rows=rows_new\n",
    "            cols=cols_new\n",
    "            x=(x1+x2)/2\n",
    "            y = test_mat_trans[i][j]\n",
    "            s = s+abs(x-y)\n",
    "            cnt = cnt+1\n",
    "#                 if cnt%100==0:\n",
    "            if i%500==0 and j%100==0:\n",
    "                print(\"i: \"+str(i)+\" j: \"+str(j)+\" x: \"+str(x)+\" y: \"+str(y))\n",
    "print (s/cnt)"
   ]
  },
  {
   "cell_type": "code",
   "execution_count": null,
   "metadata": {},
   "outputs": [],
   "source": []
  }
 ],
 "metadata": {
  "kernelspec": {
   "display_name": "Python 3",
   "language": "python",
   "name": "python3"
  },
  "language_info": {
   "codemirror_mode": {
    "name": "ipython",
    "version": 3
   },
   "file_extension": ".py",
   "mimetype": "text/x-python",
   "name": "python",
   "nbconvert_exporter": "python",
   "pygments_lexer": "ipython3",
   "version": "3.6.8"
  }
 },
 "nbformat": 4,
 "nbformat_minor": 2
}
